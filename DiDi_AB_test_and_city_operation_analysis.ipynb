{
 "cells": [
  {
   "cell_type": "code",
   "execution_count": 1,
   "metadata": {
    "ExecuteTime": {
     "end_time": "2020-11-09T03:56:55.096845Z",
     "start_time": "2020-11-09T03:56:54.812748Z"
    }
   },
   "outputs": [],
   "source": [
    "import pandas as pd"
   ]
  },
  {
   "cell_type": "code",
   "execution_count": 3,
   "metadata": {
    "ExecuteTime": {
     "end_time": "2020-11-09T03:57:46.751847Z",
     "start_time": "2020-11-09T03:57:46.628123Z"
    }
   },
   "outputs": [],
   "source": [
    "test = pd.read_excel(\"./didi4010/test.xlsx\")\n",
    "city = pd.read_excel(\"./didi4010/city.xlsx\")"
   ]
  },
  {
   "cell_type": "markdown",
   "metadata": {
    "ExecuteTime": {
     "end_time": "2020-11-09T04:09:00.000671Z",
     "start_time": "2020-11-09T04:08:59.968204Z"
    }
   },
   "source": [
    "<table class='center'>\n",
    "    <thead>\n",
    "        <tr>\n",
    "            <th>字段名称</th>\n",
    "            <th>字段解释</th>\n",
    "        </tr>\n",
    "    </thead>\n",
    "    <tbody>\n",
    "        <tr>\n",
    "            <td>date</td>\n",
    "            <td>日期</td>\n",
    "        </tr>\n",
    "        <tr>\n",
    "            <td>group</td>\n",
    "            <td>组别</td>\n",
    "        </tr>\n",
    "        <tr>\n",
    "            <td>requests</td>\n",
    "            <td>订单请求数</td>\n",
    "        </tr>\n",
    "        <tr>\n",
    "            <td>gmv</td>\n",
    "            <td>成交总额</td>\n",
    "        </tr>\n",
    "        <tr>\n",
    "            <td>coupon per trip</td>\n",
    "            <td>每单优惠金额</td>\n",
    "        </tr>\n",
    "        <tr>\n",
    "            <td>trips</td>\n",
    "            <td>订单数</td>\n",
    "        </tr>\n",
    "        <tr>\n",
    "            <td>canceled requests</td>\n",
    "            <td>取消订单数</td>\n",
    "        </tr>\n",
    "    </tbody>\n",
    "</table>"
   ]
  },
  {
   "cell_type": "markdown",
   "metadata": {},
   "source": [
    "<table class='center'>\n",
    "    <thead>\n",
    "        <tr>\n",
    "            <th>字段名称</th>\n",
    "            <th>字段解释</th>\n",
    "        </tr>\n",
    "    </thead>\n",
    "    <tbody>\n",
    "        <tr>\n",
    "            <td>date</td>\n",
    "            <td>日期</td>\n",
    "        </tr>\n",
    "        <tr>\n",
    "            <td>hour</td>\n",
    "            <td>时点</td>\n",
    "        </tr>\n",
    "        <tr>\n",
    "            <td>requests</td>\n",
    "            <td>订单请求数</td>\n",
    "        </tr>\n",
    "        <tr>\n",
    "            <td>supply hours</td>\n",
    "            <td>可服务时长</td>\n",
    "        </tr>\n",
    "        <tr>\n",
    "            <td>average minutes of trips</td>\n",
    "            <td>平均订单时长（分钟）</td>\n",
    "        </tr>\n",
    "        <tr>\n",
    "            <td>pETA</td>\n",
    "            <td>顾客预计等待时长</td>\n",
    "        </tr>\n",
    "        <tr>\n",
    "            <td>aETA</td>\n",
    "            <td>顾客实际等待时长</td>\n",
    "        </tr>\n",
    "        <tr>\n",
    "            <td>utiliz</td>\n",
    "            <td>司机在忙率</td>\n",
    "        </tr>\n",
    "    </tbody>\n",
    "</table>"
   ]
  },
  {
   "cell_type": "code",
   "execution_count": 11,
   "metadata": {
    "ExecuteTime": {
     "end_time": "2020-11-09T04:34:21.800554Z",
     "start_time": "2020-11-09T04:34:21.782011Z"
    }
   },
   "outputs": [
    {
     "data": {
      "text/plain": [
       "(90, 9)"
      ]
     },
     "execution_count": 11,
     "metadata": {},
     "output_type": "execute_result"
    }
   ],
   "source": [
    "city.shape"
   ]
  },
  {
   "cell_type": "markdown",
   "metadata": {},
   "source": [
    "## 滴滴A/B测试"
   ]
  },
  {
   "cell_type": "code",
   "execution_count": 12,
   "metadata": {
    "ExecuteTime": {
     "end_time": "2020-11-10T03:12:21.543332Z",
     "start_time": "2020-11-10T03:12:21.465319Z"
    }
   },
   "outputs": [
    {
     "data": {
      "text/html": [
       "<div>\n",
       "<style scoped>\n",
       "    .dataframe tbody tr th:only-of-type {\n",
       "        vertical-align: middle;\n",
       "    }\n",
       "\n",
       "    .dataframe tbody tr th {\n",
       "        vertical-align: top;\n",
       "    }\n",
       "\n",
       "    .dataframe thead th {\n",
       "        text-align: right;\n",
       "    }\n",
       "</style>\n",
       "<table border=\"1\" class=\"dataframe\">\n",
       "  <thead>\n",
       "    <tr style=\"text-align: right;\">\n",
       "      <th></th>\n",
       "      <th>date</th>\n",
       "      <th>group</th>\n",
       "      <th>requests</th>\n",
       "      <th>gmv</th>\n",
       "      <th>coupon per trip</th>\n",
       "      <th>trips</th>\n",
       "      <th>canceled requests</th>\n",
       "      <th>ROI</th>\n",
       "    </tr>\n",
       "  </thead>\n",
       "  <tbody>\n",
       "    <tr>\n",
       "      <th>0</th>\n",
       "      <td>2019-01-01</td>\n",
       "      <td>control</td>\n",
       "      <td>30</td>\n",
       "      <td>7486.620</td>\n",
       "      <td>1.069746</td>\n",
       "      <td>24</td>\n",
       "      <td>1</td>\n",
       "      <td>291.604269</td>\n",
       "    </tr>\n",
       "    <tr>\n",
       "      <th>1</th>\n",
       "      <td>2019-01-02</td>\n",
       "      <td>control</td>\n",
       "      <td>152</td>\n",
       "      <td>38301.575</td>\n",
       "      <td>1.044199</td>\n",
       "      <td>121</td>\n",
       "      <td>8</td>\n",
       "      <td>303.143166</td>\n",
       "    </tr>\n",
       "    <tr>\n",
       "      <th>2</th>\n",
       "      <td>2019-01-03</td>\n",
       "      <td>control</td>\n",
       "      <td>267</td>\n",
       "      <td>67768.425</td>\n",
       "      <td>1.032276</td>\n",
       "      <td>215</td>\n",
       "      <td>14</td>\n",
       "      <td>305.346684</td>\n",
       "    </tr>\n",
       "    <tr>\n",
       "      <th>3</th>\n",
       "      <td>2019-01-04</td>\n",
       "      <td>control</td>\n",
       "      <td>369</td>\n",
       "      <td>94992.900</td>\n",
       "      <td>1.028196</td>\n",
       "      <td>298</td>\n",
       "      <td>19</td>\n",
       "      <td>310.026761</td>\n",
       "    </tr>\n",
       "    <tr>\n",
       "      <th>4</th>\n",
       "      <td>2019-01-05</td>\n",
       "      <td>control</td>\n",
       "      <td>478</td>\n",
       "      <td>123236.875</td>\n",
       "      <td>1.011807</td>\n",
       "      <td>390</td>\n",
       "      <td>24</td>\n",
       "      <td>312.304607</td>\n",
       "    </tr>\n",
       "  </tbody>\n",
       "</table>\n",
       "</div>"
      ],
      "text/plain": [
       "        date    group  requests         gmv  coupon per trip  trips  \\\n",
       "0 2019-01-01  control        30    7486.620         1.069746     24   \n",
       "1 2019-01-02  control       152   38301.575         1.044199    121   \n",
       "2 2019-01-03  control       267   67768.425         1.032276    215   \n",
       "3 2019-01-04  control       369   94992.900         1.028196    298   \n",
       "4 2019-01-05  control       478  123236.875         1.011807    390   \n",
       "\n",
       "   canceled requests         ROI  \n",
       "0                  1  291.604269  \n",
       "1                  8  303.143166  \n",
       "2                 14  305.346684  \n",
       "3                 19  310.026761  \n",
       "4                 24  312.304607  "
      ]
     },
     "execution_count": 12,
     "metadata": {},
     "output_type": "execute_result"
    }
   ],
   "source": [
    "# 计算优惠卷投入相GMV的ROI\n",
    "test['ROI'] = test['gmv'] / (test['coupon per trip'] * test['trips'])\n",
    "test.head()"
   ]
  },
  {
   "cell_type": "markdown",
   "metadata": {},
   "source": [
    "### requests的方差检验"
   ]
  },
  {
   "cell_type": "markdown",
   "metadata": {},
   "source": [
    "在这里，test的样本量为59，均分为对照组和实验组，每组的样本量小于30。\n",
    "\n",
    "在这里先使用`Levene's test`、`Bartlett's test`或者`F test`来测试两组的方差是否相等，如果测试的结果显著，则应该选择使用更具普适性的不需要假定同协方差性（homoscedasticity）的检验（有些情况下甚至可以使用non-parametric test）。例如Welch's t-test（unequal variances t-test）可以在这种状况下使用。"
   ]
  },
  {
   "cell_type": "markdown",
   "metadata": {},
   "source": [
    "1. 两组方差分别为v1，v2\n",
    "2. 零假设H0：v1 = v2，备选假设H1：v1 ≠ v2\n",
    "3. 显著水平取0.05"
   ]
  },
  {
   "cell_type": "code",
   "execution_count": 13,
   "metadata": {
    "ExecuteTime": {
     "end_time": "2020-11-10T08:32:55.147641Z",
     "start_time": "2020-11-10T08:32:54.972296Z"
    }
   },
   "outputs": [
    {
     "data": {
      "text/plain": [
       "LeveneResult(statistic=0.014685075667736849, pvalue=0.903980667108546)"
      ]
     },
     "execution_count": 13,
     "metadata": {},
     "output_type": "execute_result"
    }
   ],
   "source": [
    "import scipy.stats as st\n",
    "\n",
    "requests_a = test[test.group=='control'].requests\n",
    "requests_b = test[test.group=='experiment'].requests\n",
    "\n",
    "st.levene(requests_a, requests_b)"
   ]
  },
  {
   "cell_type": "markdown",
   "metadata": {},
   "source": [
    "p值大于选取的显著水平0.05，没有足够的证据拒绝零假设，所以可以认为两组实验的requests齐方差。"
   ]
  },
  {
   "cell_type": "markdown",
   "metadata": {},
   "source": [
    "### requests的均值检验"
   ]
  },
  {
   "cell_type": "markdown",
   "metadata": {},
   "source": [
    "1. 该数据为同一样本实验前后的不同水平，因此选用配对样本t检验\n",
    "2. 两组均值分别为u1，u2\n",
    "3. 零假设H0：u1 = u2，备选假设H1：u1 ≠ u2\n",
    "4. 显著水平取0.05"
   ]
  },
  {
   "cell_type": "code",
   "execution_count": 14,
   "metadata": {
    "ExecuteTime": {
     "end_time": "2020-11-10T09:07:11.379464Z",
     "start_time": "2020-11-10T09:07:11.363805Z"
    }
   },
   "outputs": [
    {
     "data": {
      "text/plain": [
       "Ttest_relResult(statistic=1.6436140982479508, pvalue=0.11143970454099936)"
      ]
     },
     "execution_count": 14,
     "metadata": {},
     "output_type": "execute_result"
    }
   ],
   "source": [
    "st.ttest_rel(requests_a, requests_b)"
   ]
  },
  {
   "cell_type": "markdown",
   "metadata": {},
   "source": [
    "p值大于0.05，没有足够的证据拒绝零假设，所以可以认为实验对两组的requests影响不显著。"
   ]
  },
  {
   "cell_type": "markdown",
   "metadata": {},
   "source": [
    "### gmv方差/均值检验"
   ]
  },
  {
   "cell_type": "code",
   "execution_count": 15,
   "metadata": {
    "ExecuteTime": {
     "end_time": "2020-11-10T09:10:19.049182Z",
     "start_time": "2020-11-10T09:10:19.013539Z"
    }
   },
   "outputs": [
    {
     "data": {
      "text/plain": [
       "LeveneResult(statistic=0.02865341299111212, pvalue=0.8661917430097603)"
      ]
     },
     "execution_count": 15,
     "metadata": {},
     "output_type": "execute_result"
    }
   ],
   "source": [
    "gmv_a = test[test.group=='control'].gmv\n",
    "gmv_b = test[test.group=='experiment'].gmv\n",
    "\n",
    "st.levene(gmv_a, gmv_b)"
   ]
  },
  {
   "cell_type": "markdown",
   "metadata": {},
   "source": [
    "p值大于选取的显著水平0.05，没有足够的证据拒绝零假设，所以可以认为两组实验的gmv齐方差。"
   ]
  },
  {
   "cell_type": "code",
   "execution_count": 16,
   "metadata": {
    "ExecuteTime": {
     "end_time": "2020-11-10T09:10:57.539474Z",
     "start_time": "2020-11-10T09:10:57.517386Z"
    }
   },
   "outputs": [
    {
     "data": {
      "text/plain": [
       "Ttest_relResult(statistic=4.247583846321442, pvalue=0.00021564303983362577)"
      ]
     },
     "execution_count": 16,
     "metadata": {},
     "output_type": "execute_result"
    }
   ],
   "source": [
    "st.ttest_rel(gmv_a, gmv_b)"
   ]
  },
  {
   "cell_type": "markdown",
   "metadata": {},
   "source": [
    "p值小于0.05，有充足的证据拒绝零假设，所以可以认为实验对两组的gmv影响显著。"
   ]
  },
  {
   "cell_type": "markdown",
   "metadata": {},
   "source": [
    "### ROI方差/均值检验"
   ]
  },
  {
   "cell_type": "code",
   "execution_count": 25,
   "metadata": {
    "ExecuteTime": {
     "end_time": "2020-11-10T09:54:12.757226Z",
     "start_time": "2020-11-10T09:54:12.724714Z"
    }
   },
   "outputs": [
    {
     "data": {
      "text/plain": [
       "LeveneResult(statistic=0.10363884745479335, pvalue=0.7487044961896305)"
      ]
     },
     "execution_count": 25,
     "metadata": {},
     "output_type": "execute_result"
    }
   ],
   "source": [
    "roi_a = test[test.group=='control'].ROI\n",
    "roi_b = test[test.group=='experiment'].ROI\n",
    "\n",
    "st.levene(roi_a, roi_b)"
   ]
  },
  {
   "cell_type": "markdown",
   "metadata": {},
   "source": [
    "p值大于选取的显著水平0.05，没有足够的证据拒绝零假设，所以可以认为两组实验的ROI齐方差。"
   ]
  },
  {
   "cell_type": "code",
   "execution_count": 26,
   "metadata": {
    "ExecuteTime": {
     "end_time": "2020-11-10T09:54:56.704625Z",
     "start_time": "2020-11-10T09:54:56.685821Z"
    }
   },
   "outputs": [
    {
     "data": {
      "text/plain": [
       "Ttest_relResult(statistic=10.305504459268173, pvalue=4.93261342734923e-11)"
      ]
     },
     "execution_count": 26,
     "metadata": {},
     "output_type": "execute_result"
    }
   ],
   "source": [
    "st.ttest_rel(roi_a, roi_b)"
   ]
  },
  {
   "cell_type": "markdown",
   "metadata": {},
   "source": [
    "p值小于0.05，有充足的证据拒绝零假设，所以可以认为实验对两组的ROI影响显著。"
   ]
  },
  {
   "cell_type": "markdown",
   "metadata": {},
   "source": [
    "## 城市运营分析"
   ]
  },
  {
   "cell_type": "code",
   "execution_count": 27,
   "metadata": {
    "ExecuteTime": {
     "end_time": "2020-11-10T09:59:40.506575Z",
     "start_time": "2020-11-10T09:59:40.438153Z"
    }
   },
   "outputs": [
    {
     "data": {
      "text/html": [
       "<div>\n",
       "<style scoped>\n",
       "    .dataframe tbody tr th:only-of-type {\n",
       "        vertical-align: middle;\n",
       "    }\n",
       "\n",
       "    .dataframe tbody tr th {\n",
       "        vertical-align: top;\n",
       "    }\n",
       "\n",
       "    .dataframe thead th {\n",
       "        text-align: right;\n",
       "    }\n",
       "</style>\n",
       "<table border=\"1\" class=\"dataframe\">\n",
       "  <thead>\n",
       "    <tr style=\"text-align: right;\">\n",
       "      <th></th>\n",
       "      <th>date</th>\n",
       "      <th>hour</th>\n",
       "      <th>requests</th>\n",
       "      <th>trips</th>\n",
       "      <th>supply hours</th>\n",
       "      <th>average minutes of trips</th>\n",
       "      <th>pETA</th>\n",
       "      <th>aETA</th>\n",
       "      <th>utiliz</th>\n",
       "    </tr>\n",
       "  </thead>\n",
       "  <tbody>\n",
       "    <tr>\n",
       "      <th>0</th>\n",
       "      <td>2013-09-01</td>\n",
       "      <td>11</td>\n",
       "      <td>79</td>\n",
       "      <td>55</td>\n",
       "      <td>42.63</td>\n",
       "      <td>20.43</td>\n",
       "      <td>5.51</td>\n",
       "      <td>7.19</td>\n",
       "      <td>0.479240</td>\n",
       "    </tr>\n",
       "    <tr>\n",
       "      <th>1</th>\n",
       "      <td>2013-09-01</td>\n",
       "      <td>12</td>\n",
       "      <td>73</td>\n",
       "      <td>41</td>\n",
       "      <td>36.43</td>\n",
       "      <td>15.53</td>\n",
       "      <td>5.48</td>\n",
       "      <td>8.48</td>\n",
       "      <td>0.426297</td>\n",
       "    </tr>\n",
       "    <tr>\n",
       "      <th>2</th>\n",
       "      <td>2013-09-01</td>\n",
       "      <td>13</td>\n",
       "      <td>54</td>\n",
       "      <td>50</td>\n",
       "      <td>23.02</td>\n",
       "      <td>17.76</td>\n",
       "      <td>5.07</td>\n",
       "      <td>8.94</td>\n",
       "      <td>0.771503</td>\n",
       "    </tr>\n",
       "    <tr>\n",
       "      <th>3</th>\n",
       "      <td>2013-09-02</td>\n",
       "      <td>11</td>\n",
       "      <td>193</td>\n",
       "      <td>170</td>\n",
       "      <td>64.20</td>\n",
       "      <td>31.47</td>\n",
       "      <td>5.31</td>\n",
       "      <td>6.55</td>\n",
       "      <td>0.490187</td>\n",
       "    </tr>\n",
       "    <tr>\n",
       "      <th>4</th>\n",
       "      <td>2013-09-02</td>\n",
       "      <td>12</td>\n",
       "      <td>258</td>\n",
       "      <td>210</td>\n",
       "      <td>80.28</td>\n",
       "      <td>38.68</td>\n",
       "      <td>4.94</td>\n",
       "      <td>6.08</td>\n",
       "      <td>0.481814</td>\n",
       "    </tr>\n",
       "  </tbody>\n",
       "</table>\n",
       "</div>"
      ],
      "text/plain": [
       "        date  hour  requests  trips  supply hours  average minutes of trips  \\\n",
       "0 2013-09-01    11        79     55         42.63                     20.43   \n",
       "1 2013-09-01    12        73     41         36.43                     15.53   \n",
       "2 2013-09-01    13        54     50         23.02                     17.76   \n",
       "3 2013-09-02    11       193    170         64.20                     31.47   \n",
       "4 2013-09-02    12       258    210         80.28                     38.68   \n",
       "\n",
       "   pETA  aETA    utiliz  \n",
       "0  5.51  7.19  0.479240  \n",
       "1  5.48  8.48  0.426297  \n",
       "2  5.07  8.94  0.771503  \n",
       "3  5.31  6.55  0.490187  \n",
       "4  4.94  6.08  0.481814  "
      ]
     },
     "execution_count": 27,
     "metadata": {},
     "output_type": "execute_result"
    }
   ],
   "source": [
    "city.head()"
   ]
  },
  {
   "cell_type": "code",
   "execution_count": 28,
   "metadata": {
    "ExecuteTime": {
     "end_time": "2020-11-10T09:59:56.025689Z",
     "start_time": "2020-11-10T09:59:55.967120Z"
    }
   },
   "outputs": [
    {
     "name": "stdout",
     "output_type": "stream",
     "text": [
      "<class 'pandas.core.frame.DataFrame'>\n",
      "RangeIndex: 90 entries, 0 to 89\n",
      "Data columns (total 9 columns):\n",
      " #   Column                    Non-Null Count  Dtype         \n",
      "---  ------                    --------------  -----         \n",
      " 0   date                      90 non-null     datetime64[ns]\n",
      " 1   hour                      90 non-null     int64         \n",
      " 2   requests                  90 non-null     int64         \n",
      " 3   trips                     90 non-null     int64         \n",
      " 4   supply hours              90 non-null     float64       \n",
      " 5   average minutes of trips  90 non-null     float64       \n",
      " 6   pETA                      90 non-null     float64       \n",
      " 7   aETA                      90 non-null     float64       \n",
      " 8   utiliz                    90 non-null     float64       \n",
      "dtypes: datetime64[ns](1), float64(5), int64(3)\n",
      "memory usage: 6.5 KB\n"
     ]
    }
   ],
   "source": [
    "city.info()"
   ]
  },
  {
   "cell_type": "code",
   "execution_count": 32,
   "metadata": {
    "ExecuteTime": {
     "end_time": "2020-11-10T10:02:43.771026Z",
     "start_time": "2020-11-10T10:02:43.742859Z"
    }
   },
   "outputs": [],
   "source": [
    "req_hour = city.groupby(['hour'], as_index=True).agg({'requests': sum})"
   ]
  },
  {
   "cell_type": "code",
   "execution_count": 30,
   "metadata": {
    "ExecuteTime": {
     "end_time": "2020-11-10T10:02:14.349726Z",
     "start_time": "2020-11-10T10:02:14.090310Z"
    }
   },
   "outputs": [],
   "source": [
    "import matplotlib.pyplot as plt\n",
    "\n",
    "%matplotlib inline"
   ]
  },
  {
   "cell_type": "code",
   "execution_count": 35,
   "metadata": {
    "ExecuteTime": {
     "end_time": "2020-11-10T10:03:43.824211Z",
     "start_time": "2020-11-10T10:03:43.673372Z"
    }
   },
   "outputs": [
    {
     "data": {
      "image/png": "[encoded data removed]",
      "text/plain": [
       "<Figure size 432x288 with 1 Axes>"
      ]
     },
     "metadata": {
      "needs_background": "light"
     },
     "output_type": "display_data"
    }
   ],
   "source": [
    "req_hour.plot(kind='bar')\n",
    "plt.title('各时点订单请求数')\n",
    "plt.xticks(rotation=0)\n",
    "plt.show()"
   ]
  },
  {
   "cell_type": "code",
   "execution_count": 36,
   "metadata": {
    "ExecuteTime": {
     "end_time": "2020-11-10T10:04:53.073502Z",
     "start_time": "2020-11-10T10:04:53.013282Z"
    }
   },
   "outputs": [
    {
     "data": {
      "text/html": [
       "<div>\n",
       "<style scoped>\n",
       "    .dataframe tbody tr th:only-of-type {\n",
       "        vertical-align: middle;\n",
       "    }\n",
       "\n",
       "    .dataframe tbody tr th {\n",
       "        vertical-align: top;\n",
       "    }\n",
       "\n",
       "    .dataframe thead th {\n",
       "        text-align: right;\n",
       "    }\n",
       "</style>\n",
       "<table border=\"1\" class=\"dataframe\">\n",
       "  <thead>\n",
       "    <tr style=\"text-align: right;\">\n",
       "      <th></th>\n",
       "      <th>requests</th>\n",
       "    </tr>\n",
       "    <tr>\n",
       "      <th>date</th>\n",
       "      <th></th>\n",
       "    </tr>\n",
       "  </thead>\n",
       "  <tbody>\n",
       "    <tr>\n",
       "      <th>2013-09-01</th>\n",
       "      <td>206</td>\n",
       "    </tr>\n",
       "    <tr>\n",
       "      <th>2013-09-02</th>\n",
       "      <td>604</td>\n",
       "    </tr>\n",
       "    <tr>\n",
       "      <th>2013-09-03</th>\n",
       "      <td>238</td>\n",
       "    </tr>\n",
       "    <tr>\n",
       "      <th>2013-09-04</th>\n",
       "      <td>199</td>\n",
       "    </tr>\n",
       "    <tr>\n",
       "      <th>2013-09-05</th>\n",
       "      <td>782</td>\n",
       "    </tr>\n",
       "  </tbody>\n",
       "</table>\n",
       "</div>"
      ],
      "text/plain": [
       "            requests\n",
       "date                \n",
       "2013-09-01       206\n",
       "2013-09-02       604\n",
       "2013-09-03       238\n",
       "2013-09-04       199\n",
       "2013-09-05       782"
      ]
     },
     "execution_count": 36,
     "metadata": {},
     "output_type": "execute_result"
    }
   ],
   "source": [
    "req_date = city.groupby(['date'], as_index=True).agg({'requests': sum})\n",
    "req_date.sort_values('date').head()"
   ]
  },
  {
   "cell_type": "code",
   "execution_count": 38,
   "metadata": {
    "ExecuteTime": {
     "end_time": "2020-11-10T10:05:36.481636Z",
     "start_time": "2020-11-10T10:05:36.222334Z"
    }
   },
   "outputs": [
    {
     "data": {
      "image/png": "[encoded data removed]",
      "text/plain": [
       "<Figure size 432x288 with 1 Axes>"
      ]
     },
     "metadata": {
      "needs_background": "light"
     },
     "output_type": "display_data"
    }
   ],
   "source": [
    "req_date.plot(kind='line')\n",
    "plt.title('每日订单请求变化趋势')\n",
    "plt.show()"
   ]
  },
  {
   "cell_type": "markdown",
   "metadata": {},
   "source": [
    "峰值对应周末，平台可以通过奖励和提高单位收入的方式在周末加大车辆的供给以满足需求。"
   ]
  },
  {
   "cell_type": "code",
   "execution_count": 39,
   "metadata": {
    "ExecuteTime": {
     "end_time": "2020-11-10T10:08:34.360149Z",
     "start_time": "2020-11-10T10:08:34.297742Z"
    }
   },
   "outputs": [
    {
     "data": {
      "text/html": [
       "<div>\n",
       "<style scoped>\n",
       "    .dataframe tbody tr th:only-of-type {\n",
       "        vertical-align: middle;\n",
       "    }\n",
       "\n",
       "    .dataframe tbody tr th {\n",
       "        vertical-align: top;\n",
       "    }\n",
       "\n",
       "    .dataframe thead th {\n",
       "        text-align: right;\n",
       "    }\n",
       "</style>\n",
       "<table border=\"1\" class=\"dataframe\">\n",
       "  <thead>\n",
       "    <tr style=\"text-align: right;\">\n",
       "      <th></th>\n",
       "      <th>hour</th>\n",
       "      <th>requests</th>\n",
       "      <th>trips</th>\n",
       "      <th>rate</th>\n",
       "    </tr>\n",
       "  </thead>\n",
       "  <tbody>\n",
       "    <tr>\n",
       "      <th>0</th>\n",
       "      <td>11</td>\n",
       "      <td>6008</td>\n",
       "      <td>4550</td>\n",
       "      <td>0.757324</td>\n",
       "    </tr>\n",
       "    <tr>\n",
       "      <th>1</th>\n",
       "      <td>12</td>\n",
       "      <td>8530</td>\n",
       "      <td>5850</td>\n",
       "      <td>0.685815</td>\n",
       "    </tr>\n",
       "    <tr>\n",
       "      <th>2</th>\n",
       "      <td>13</td>\n",
       "      <td>6559</td>\n",
       "      <td>3085</td>\n",
       "      <td>0.470346</td>\n",
       "    </tr>\n",
       "  </tbody>\n",
       "</table>\n",
       "</div>"
      ],
      "text/plain": [
       "   hour  requests  trips      rate\n",
       "0    11      6008   4550  0.757324\n",
       "1    12      8530   5850  0.685815\n",
       "2    13      6559   3085  0.470346"
      ]
     },
     "execution_count": 39,
     "metadata": {},
     "output_type": "execute_result"
    }
   ],
   "source": [
    "com_hour = city.groupby('hour', as_index=False).agg({'requests': sum, 'trips': sum})\n",
    "com_hour['rate'] = com_hour['trips'] / com_hour['requests']\n",
    "com_hour"
   ]
  },
  {
   "cell_type": "markdown",
   "metadata": {},
   "source": [
    "运营部门可以重点关注13点的订单时长，对未被响应的订单进行原因排查，以解决问题提升完成率。"
   ]
  },
  {
   "cell_type": "code",
   "execution_count": 40,
   "metadata": {
    "ExecuteTime": {
     "end_time": "2020-11-10T10:11:53.522527Z",
     "start_time": "2020-11-10T10:11:53.447560Z"
    },
    "scrolled": true
   },
   "outputs": [
    {
     "data": {
      "text/html": [
       "<div>\n",
       "<style scoped>\n",
       "    .dataframe tbody tr th:only-of-type {\n",
       "        vertical-align: middle;\n",
       "    }\n",
       "\n",
       "    .dataframe tbody tr th {\n",
       "        vertical-align: top;\n",
       "    }\n",
       "\n",
       "    .dataframe thead th {\n",
       "        text-align: right;\n",
       "    }\n",
       "</style>\n",
       "<table border=\"1\" class=\"dataframe\">\n",
       "  <thead>\n",
       "    <tr style=\"text-align: right;\">\n",
       "      <th></th>\n",
       "      <th>requests</th>\n",
       "      <th>trips</th>\n",
       "      <th>rate</th>\n",
       "    </tr>\n",
       "    <tr>\n",
       "      <th>date</th>\n",
       "      <th></th>\n",
       "      <th></th>\n",
       "      <th></th>\n",
       "    </tr>\n",
       "  </thead>\n",
       "  <tbody>\n",
       "    <tr>\n",
       "      <th>2013-09-01</th>\n",
       "      <td>206</td>\n",
       "      <td>146</td>\n",
       "      <td>0.708738</td>\n",
       "    </tr>\n",
       "    <tr>\n",
       "      <th>2013-09-02</th>\n",
       "      <td>604</td>\n",
       "      <td>487</td>\n",
       "      <td>0.806291</td>\n",
       "    </tr>\n",
       "    <tr>\n",
       "      <th>2013-09-03</th>\n",
       "      <td>238</td>\n",
       "      <td>83</td>\n",
       "      <td>0.348739</td>\n",
       "    </tr>\n",
       "    <tr>\n",
       "      <th>2013-09-04</th>\n",
       "      <td>199</td>\n",
       "      <td>102</td>\n",
       "      <td>0.512563</td>\n",
       "    </tr>\n",
       "    <tr>\n",
       "      <th>2013-09-05</th>\n",
       "      <td>782</td>\n",
       "      <td>532</td>\n",
       "      <td>0.680307</td>\n",
       "    </tr>\n",
       "  </tbody>\n",
       "</table>\n",
       "</div>"
      ],
      "text/plain": [
       "            requests  trips      rate\n",
       "date                                 \n",
       "2013-09-01       206    146  0.708738\n",
       "2013-09-02       604    487  0.806291\n",
       "2013-09-03       238     83  0.348739\n",
       "2013-09-04       199    102  0.512563\n",
       "2013-09-05       782    532  0.680307"
      ]
     },
     "execution_count": 40,
     "metadata": {},
     "output_type": "execute_result"
    }
   ],
   "source": [
    "com_date = city.groupby('date').agg({'requests': sum, 'trips': sum})\n",
    "com_date['rate'] = com_date['trips'] / com_date['requests']\n",
    "com_date.sort_values('date').head()"
   ]
  },
  {
   "cell_type": "code",
   "execution_count": 41,
   "metadata": {
    "ExecuteTime": {
     "end_time": "2020-11-10T10:12:36.000326Z",
     "start_time": "2020-11-10T10:12:35.711275Z"
    }
   },
   "outputs": [
    {
     "data": {
      "image/png": "[encoded data removed]",
      "text/plain": [
       "<Figure size 432x288 with 1 Axes>"
      ]
     },
     "metadata": {
      "needs_background": "light"
     },
     "output_type": "display_data"
    }
   ],
   "source": [
    "com_date.rate.plot(kind='line')\n",
    "plt.title('每日订单完成率变化趋势')\n",
    "plt.show()"
   ]
  },
  {
   "cell_type": "code",
   "execution_count": 42,
   "metadata": {
    "ExecuteTime": {
     "end_time": "2020-11-10T10:14:53.868342Z",
     "start_time": "2020-11-10T10:14:53.860358Z"
    }
   },
   "outputs": [],
   "source": [
    "import numpy as np"
   ]
  },
  {
   "cell_type": "code",
   "execution_count": 51,
   "metadata": {
    "ExecuteTime": {
     "end_time": "2020-11-10T10:18:44.516013Z",
     "start_time": "2020-11-10T10:18:44.463898Z"
    }
   },
   "outputs": [
    {
     "data": {
      "text/html": [
       "<div>\n",
       "<style scoped>\n",
       "    .dataframe tbody tr th:only-of-type {\n",
       "        vertical-align: middle;\n",
       "    }\n",
       "\n",
       "    .dataframe tbody tr th {\n",
       "        vertical-align: top;\n",
       "    }\n",
       "\n",
       "    .dataframe thead th {\n",
       "        text-align: right;\n",
       "    }\n",
       "</style>\n",
       "<table border=\"1\" class=\"dataframe\">\n",
       "  <thead>\n",
       "    <tr style=\"text-align: right;\">\n",
       "      <th></th>\n",
       "      <th>pETA</th>\n",
       "      <th>aETA</th>\n",
       "    </tr>\n",
       "    <tr>\n",
       "      <th>hour</th>\n",
       "      <th></th>\n",
       "      <th></th>\n",
       "    </tr>\n",
       "  </thead>\n",
       "  <tbody>\n",
       "    <tr>\n",
       "      <th>11</th>\n",
       "      <td>5.397333</td>\n",
       "      <td>6.611000</td>\n",
       "    </tr>\n",
       "    <tr>\n",
       "      <th>12</th>\n",
       "      <td>5.860000</td>\n",
       "      <td>7.253333</td>\n",
       "    </tr>\n",
       "    <tr>\n",
       "      <th>13</th>\n",
       "      <td>6.018333</td>\n",
       "      <td>7.732667</td>\n",
       "    </tr>\n",
       "  </tbody>\n",
       "</table>\n",
       "</div>"
      ],
      "text/plain": [
       "          pETA      aETA\n",
       "hour                    \n",
       "11    5.397333  6.611000\n",
       "12    5.860000  7.253333\n",
       "13    6.018333  7.732667"
      ]
     },
     "execution_count": 51,
     "metadata": {},
     "output_type": "execute_result"
    }
   ],
   "source": [
    "eta_hour = city.groupby('hour').agg({'pETA': 'mean', 'aETA': 'mean'})\n",
    "eta_hour"
   ]
  },
  {
   "cell_type": "code",
   "execution_count": 52,
   "metadata": {
    "ExecuteTime": {
     "end_time": "2020-11-10T10:18:46.091441Z",
     "start_time": "2020-11-10T10:18:45.868025Z"
    }
   },
   "outputs": [
    {
     "data": {
      "image/png": "[encoded data removed]",
      "text/plain": [
       "<Figure size 432x288 with 1 Axes>"
      ]
     },
     "metadata": {
      "needs_background": "light"
     },
     "output_type": "display_data"
    }
   ],
   "source": [
    "eta_hour.plot(kind='bar')\n",
    "plt.title('顾客等待时长')\n",
    "plt.xticks(rotation=0)\n",
    "plt.show()"
   ]
  },
  {
   "cell_type": "code",
   "execution_count": 53,
   "metadata": {
    "ExecuteTime": {
     "end_time": "2020-11-10T10:18:46.971011Z",
     "start_time": "2020-11-10T10:18:46.945933Z"
    }
   },
   "outputs": [
    {
     "data": {
      "text/plain": [
       "hour\n",
       "11    1.213667\n",
       "12    1.393333\n",
       "13    1.714333\n",
       "dtype: float64"
      ]
     },
     "execution_count": 53,
     "metadata": {},
     "output_type": "execute_result"
    }
   ],
   "source": [
    "diff = eta_hour['aETA'] - eta_hour['pETA']\n",
    "diff"
   ]
  },
  {
   "cell_type": "markdown",
   "metadata": {},
   "source": [
    "用户等待时长的预测需要进一步优化。"
   ]
  },
  {
   "cell_type": "code",
   "execution_count": 54,
   "metadata": {
    "ExecuteTime": {
     "end_time": "2020-11-10T10:20:23.339675Z",
     "start_time": "2020-11-10T10:20:23.267347Z"
    }
   },
   "outputs": [
    {
     "data": {
      "text/html": [
       "<div>\n",
       "<style scoped>\n",
       "    .dataframe tbody tr th:only-of-type {\n",
       "        vertical-align: middle;\n",
       "    }\n",
       "\n",
       "    .dataframe tbody tr th {\n",
       "        vertical-align: top;\n",
       "    }\n",
       "\n",
       "    .dataframe thead th {\n",
       "        text-align: right;\n",
       "    }\n",
       "</style>\n",
       "<table border=\"1\" class=\"dataframe\">\n",
       "  <thead>\n",
       "    <tr style=\"text-align: right;\">\n",
       "      <th></th>\n",
       "      <th>date</th>\n",
       "      <th>hour</th>\n",
       "      <th>requests</th>\n",
       "      <th>trips</th>\n",
       "      <th>supply hours</th>\n",
       "      <th>average minutes of trips</th>\n",
       "      <th>pETA</th>\n",
       "      <th>aETA</th>\n",
       "      <th>utiliz</th>\n",
       "      <th>busy</th>\n",
       "    </tr>\n",
       "  </thead>\n",
       "  <tbody>\n",
       "    <tr>\n",
       "      <th>0</th>\n",
       "      <td>2013-09-01</td>\n",
       "      <td>11</td>\n",
       "      <td>79</td>\n",
       "      <td>55</td>\n",
       "      <td>42.63</td>\n",
       "      <td>20.43</td>\n",
       "      <td>5.51</td>\n",
       "      <td>7.19</td>\n",
       "      <td>0.479240</td>\n",
       "      <td>20.43</td>\n",
       "    </tr>\n",
       "    <tr>\n",
       "      <th>1</th>\n",
       "      <td>2013-09-01</td>\n",
       "      <td>12</td>\n",
       "      <td>73</td>\n",
       "      <td>41</td>\n",
       "      <td>36.43</td>\n",
       "      <td>15.53</td>\n",
       "      <td>5.48</td>\n",
       "      <td>8.48</td>\n",
       "      <td>0.426297</td>\n",
       "      <td>15.53</td>\n",
       "    </tr>\n",
       "    <tr>\n",
       "      <th>2</th>\n",
       "      <td>2013-09-01</td>\n",
       "      <td>13</td>\n",
       "      <td>54</td>\n",
       "      <td>50</td>\n",
       "      <td>23.02</td>\n",
       "      <td>17.76</td>\n",
       "      <td>5.07</td>\n",
       "      <td>8.94</td>\n",
       "      <td>0.771503</td>\n",
       "      <td>17.76</td>\n",
       "    </tr>\n",
       "    <tr>\n",
       "      <th>3</th>\n",
       "      <td>2013-09-02</td>\n",
       "      <td>11</td>\n",
       "      <td>193</td>\n",
       "      <td>170</td>\n",
       "      <td>64.20</td>\n",
       "      <td>31.47</td>\n",
       "      <td>5.31</td>\n",
       "      <td>6.55</td>\n",
       "      <td>0.490187</td>\n",
       "      <td>31.47</td>\n",
       "    </tr>\n",
       "    <tr>\n",
       "      <th>4</th>\n",
       "      <td>2013-09-02</td>\n",
       "      <td>12</td>\n",
       "      <td>258</td>\n",
       "      <td>210</td>\n",
       "      <td>80.28</td>\n",
       "      <td>38.68</td>\n",
       "      <td>4.94</td>\n",
       "      <td>6.08</td>\n",
       "      <td>0.481814</td>\n",
       "      <td>38.68</td>\n",
       "    </tr>\n",
       "  </tbody>\n",
       "</table>\n",
       "</div>"
      ],
      "text/plain": [
       "        date  hour  requests  trips  supply hours  average minutes of trips  \\\n",
       "0 2013-09-01    11        79     55         42.63                     20.43   \n",
       "1 2013-09-01    12        73     41         36.43                     15.53   \n",
       "2 2013-09-01    13        54     50         23.02                     17.76   \n",
       "3 2013-09-02    11       193    170         64.20                     31.47   \n",
       "4 2013-09-02    12       258    210         80.28                     38.68   \n",
       "\n",
       "   pETA  aETA    utiliz   busy  \n",
       "0  5.51  7.19  0.479240  20.43  \n",
       "1  5.48  8.48  0.426297  15.53  \n",
       "2  5.07  8.94  0.771503  17.76  \n",
       "3  5.31  6.55  0.490187  31.47  \n",
       "4  4.94  6.08  0.481814  38.68  "
      ]
     },
     "execution_count": 54,
     "metadata": {},
     "output_type": "execute_result"
    }
   ],
   "source": [
    "city['busy'] = city['supply hours'] * city['utiliz']\n",
    "city.head()"
   ]
  },
  {
   "cell_type": "code",
   "execution_count": 56,
   "metadata": {
    "ExecuteTime": {
     "end_time": "2020-11-10T10:21:57.067740Z",
     "start_time": "2020-11-10T10:21:56.996092Z"
    }
   },
   "outputs": [
    {
     "data": {
      "text/html": [
       "<div>\n",
       "<style scoped>\n",
       "    .dataframe tbody tr th:only-of-type {\n",
       "        vertical-align: middle;\n",
       "    }\n",
       "\n",
       "    .dataframe tbody tr th {\n",
       "        vertical-align: top;\n",
       "    }\n",
       "\n",
       "    .dataframe thead th {\n",
       "        text-align: right;\n",
       "    }\n",
       "</style>\n",
       "<table border=\"1\" class=\"dataframe\">\n",
       "  <thead>\n",
       "    <tr style=\"text-align: right;\">\n",
       "      <th></th>\n",
       "      <th>hour</th>\n",
       "      <th>supply hours</th>\n",
       "      <th>busy</th>\n",
       "      <th>utiliz</th>\n",
       "    </tr>\n",
       "  </thead>\n",
       "  <tbody>\n",
       "    <tr>\n",
       "      <th>0</th>\n",
       "      <td>11</td>\n",
       "      <td>1660.01</td>\n",
       "      <td>768.51</td>\n",
       "      <td>0.462955</td>\n",
       "    </tr>\n",
       "    <tr>\n",
       "      <th>1</th>\n",
       "      <td>12</td>\n",
       "      <td>1818.03</td>\n",
       "      <td>1115.28</td>\n",
       "      <td>0.613455</td>\n",
       "    </tr>\n",
       "    <tr>\n",
       "      <th>2</th>\n",
       "      <td>13</td>\n",
       "      <td>1274.60</td>\n",
       "      <td>730.83</td>\n",
       "      <td>0.573380</td>\n",
       "    </tr>\n",
       "  </tbody>\n",
       "</table>\n",
       "</div>"
      ],
      "text/plain": [
       "   hour  supply hours     busy    utiliz\n",
       "0    11       1660.01   768.51  0.462955\n",
       "1    12       1818.03  1115.28  0.613455\n",
       "2    13       1274.60   730.83  0.573380"
      ]
     },
     "execution_count": 56,
     "metadata": {},
     "output_type": "execute_result"
    }
   ],
   "source": [
    "busy_hour = city.groupby('hour', as_index=False).agg({'supply hours': sum,\n",
    "                                                      'busy': sum})\n",
    "busy_hour['utiliz'] = busy_hour['busy'] / busy_hour['supply hours']\n",
    "busy_hour"
   ]
  },
  {
   "cell_type": "markdown",
   "metadata": {},
   "source": [
    "12点时司机在忙时长最长，在忙率也最高，用户的订单请求也最多，说明车辆总数偏少，平台可以着手增加可服务的车辆总数。"
   ]
  },
  {
   "cell_type": "code",
   "execution_count": 58,
   "metadata": {
    "ExecuteTime": {
     "end_time": "2020-11-10T10:24:52.405983Z",
     "start_time": "2020-11-10T10:24:52.351072Z"
    }
   },
   "outputs": [
    {
     "data": {
      "text/html": [
       "<div>\n",
       "<style scoped>\n",
       "    .dataframe tbody tr th:only-of-type {\n",
       "        vertical-align: middle;\n",
       "    }\n",
       "\n",
       "    .dataframe tbody tr th {\n",
       "        vertical-align: top;\n",
       "    }\n",
       "\n",
       "    .dataframe thead th {\n",
       "        text-align: right;\n",
       "    }\n",
       "</style>\n",
       "<table border=\"1\" class=\"dataframe\">\n",
       "  <thead>\n",
       "    <tr style=\"text-align: right;\">\n",
       "      <th></th>\n",
       "      <th>hour</th>\n",
       "      <th>average minutes of trips</th>\n",
       "    </tr>\n",
       "  </thead>\n",
       "  <tbody>\n",
       "    <tr>\n",
       "      <th>0</th>\n",
       "      <td>11</td>\n",
       "      <td>25.617</td>\n",
       "    </tr>\n",
       "    <tr>\n",
       "      <th>1</th>\n",
       "      <td>12</td>\n",
       "      <td>37.176</td>\n",
       "    </tr>\n",
       "    <tr>\n",
       "      <th>2</th>\n",
       "      <td>13</td>\n",
       "      <td>24.361</td>\n",
       "    </tr>\n",
       "  </tbody>\n",
       "</table>\n",
       "</div>"
      ],
      "text/plain": [
       "   hour  average minutes of trips\n",
       "0    11                    25.617\n",
       "1    12                    37.176\n",
       "2    13                    24.361"
      ]
     },
     "execution_count": 58,
     "metadata": {},
     "output_type": "execute_result"
    }
   ],
   "source": [
    "trip_min = city.groupby('hour', as_index=False).agg({'average minutes of trips': 'mean'})\n",
    "trip_min"
   ]
  },
  {
   "cell_type": "code",
   "execution_count": 59,
   "metadata": {
    "ExecuteTime": {
     "end_time": "2020-11-10T10:25:53.852676Z",
     "start_time": "2020-11-10T10:25:53.797698Z"
    }
   },
   "outputs": [
    {
     "data": {
      "text/html": [
       "<div>\n",
       "<style scoped>\n",
       "    .dataframe tbody tr th:only-of-type {\n",
       "        vertical-align: middle;\n",
       "    }\n",
       "\n",
       "    .dataframe tbody tr th {\n",
       "        vertical-align: top;\n",
       "    }\n",
       "\n",
       "    .dataframe thead th {\n",
       "        text-align: right;\n",
       "    }\n",
       "</style>\n",
       "<table border=\"1\" class=\"dataframe\">\n",
       "  <thead>\n",
       "    <tr style=\"text-align: right;\">\n",
       "      <th></th>\n",
       "      <th>hour</th>\n",
       "      <th>supply hours</th>\n",
       "    </tr>\n",
       "  </thead>\n",
       "  <tbody>\n",
       "    <tr>\n",
       "      <th>0</th>\n",
       "      <td>11</td>\n",
       "      <td>55.333667</td>\n",
       "    </tr>\n",
       "    <tr>\n",
       "      <th>1</th>\n",
       "      <td>12</td>\n",
       "      <td>60.601000</td>\n",
       "    </tr>\n",
       "    <tr>\n",
       "      <th>2</th>\n",
       "      <td>13</td>\n",
       "      <td>42.486667</td>\n",
       "    </tr>\n",
       "  </tbody>\n",
       "</table>\n",
       "</div>"
      ],
      "text/plain": [
       "   hour  supply hours\n",
       "0    11     55.333667\n",
       "1    12     60.601000\n",
       "2    13     42.486667"
      ]
     },
     "execution_count": 59,
     "metadata": {},
     "output_type": "execute_result"
    }
   ],
   "source": [
    "supply_hour = city.groupby('hour', as_index=False).agg({'supply hours': 'mean'})\n",
    "supply_hour"
   ]
  },
  {
   "cell_type": "code",
   "execution_count": null,
   "metadata": {},
   "outputs": [],
   "source": []
  }
 ],
 "metadata": {
  "kernelspec": {
   "display_name": "Python 3",
   "language": "python",
   "name": "python3"
  },
  "language_info": {
   "codemirror_mode": {
    "name": "ipython",
    "version": 3
   },
   "file_extension": ".py",
   "mimetype": "text/x-python",
   "name": "python",
   "nbconvert_exporter": "python",
   "pygments_lexer": "ipython3",
   "version": "3.7.3"
  }
 },
 "nbformat": 4,
 "nbformat_minor": 2
}
